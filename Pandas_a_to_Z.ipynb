{
  "nbformat": 4,
  "nbformat_minor": 0,
  "metadata": {
    "colab": {
      "provenance": [],
      "authorship_tag": "ABX9TyPExjCurZu1+eFFaWTomKPA",
      "include_colab_link": true
    },
    "kernelspec": {
      "name": "python3",
      "display_name": "Python 3"
    },
    "language_info": {
      "name": "python"
    }
  },
  "cells": [
    {
      "cell_type": "markdown",
      "metadata": {
        "id": "view-in-github",
        "colab_type": "text"
      },
      "source": [
        "<a href=\"https://colab.research.google.com/github/abdurrahman16/Pandas-Python-library/blob/main/Pandas_a_to_Z.ipynb\" target=\"_parent\"><img src=\"https://colab.research.google.com/assets/colab-badge.svg\" alt=\"Open In Colab\"/></a>"
      ]
    },
    {
      "cell_type": "code",
      "execution_count": 1,
      "metadata": {
        "id": "QkpTSEauVC_4"
      },
      "outputs": [],
      "source": [
        "import pandas as pd"
      ]
    },
    {
      "cell_type": "code",
      "source": [
        "testdata= {\n",
        "    'cars':[\"BMW\",\"Toyota\",\"Mazda\"],\n",
        "    'Passing': [1,2,3]\n",
        "}\n",
        "myvar= pd.DataFrame(testdata)"
      ],
      "metadata": {
        "id": "pLE4Vr44VKbY"
      },
      "execution_count": 2,
      "outputs": []
    },
    {
      "cell_type": "code",
      "source": [
        "print(myvar)"
      ],
      "metadata": {
        "colab": {
          "base_uri": "https://localhost:8080/"
        },
        "id": "mjDUT7NkVrGF",
        "outputId": "46958464-3047-44b3-84f2-69c8f8202d09"
      },
      "execution_count": 3,
      "outputs": [
        {
          "output_type": "stream",
          "name": "stdout",
          "text": [
            "     cars  Passing\n",
            "0     BMW        1\n",
            "1  Toyota        2\n",
            "2   Mazda        3\n"
          ]
        }
      ]
    },
    {
      "cell_type": "code",
      "source": [],
      "metadata": {
        "id": "o9J3yBYmVtFm"
      },
      "execution_count": null,
      "outputs": []
    }
  ]
}